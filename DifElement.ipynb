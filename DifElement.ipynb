{
  "nbformat": 4,
  "nbformat_minor": 0,
  "metadata": {
    "colab": {
      "name": "Untitled12.ipynb",
      "provenance": [],
      "authorship_tag": "ABX9TyPCaqUUVk4dqSQzA8Vxqxig",
      "include_colab_link": true
    },
    "kernelspec": {
      "name": "python3",
      "display_name": "Python 3"
    },
    "language_info": {
      "name": "python"
    }
  },
  "cells": [
    {
      "cell_type": "markdown",
      "metadata": {
        "id": "view-in-github",
        "colab_type": "text"
      },
      "source": [
        "<a href=\"https://colab.research.google.com/github/diktamos/CourseraTF/blob/main/DifElement.ipynb\" target=\"_parent\"><img src=\"https://colab.research.google.com/assets/colab-badge.svg\" alt=\"Open In Colab\"/></a>"
      ]
    },
    {
      "cell_type": "code",
      "execution_count": 2,
      "metadata": {
        "colab": {
          "base_uri": "https://localhost:8080/"
        },
        "id": "yKPcnrLqD4fT",
        "outputId": "e2aaef1d-615c-4db6-e1d2-75d87aa516cc"
      },
      "outputs": [
        {
          "output_type": "stream",
          "name": "stdout",
          "text": [
            "wl1 = 0.610 um, wl2 = 0.660 um, wl central = 0.635 um \n",
            "period d = 1.074 um @NA = 0.3, @wlc = 0.635 \n",
            "DOI focal length = 55.0 mm\n",
            "DOI HFOV = 34.6 mm\n",
            "DOI NA = 0.3 \n",
            "chromatic shift = 20.000 mm\n",
            "thetaWl1m1 = 0.271 rad\n",
            "thetaWlcm1 = 0.295 rad\n",
            "thetaWl2m1 = 0.320 rad\n",
            "l1 = 124.542 mm\n",
            "lc = 113.779 mm\n",
            "l2 = 104.542 mm\n"
          ]
        }
      ],
      "source": [
        "# -*- coding: utf-8 -*-\n",
        "\"\"\"\n",
        "Created on Mon Jan 10 14:10:16 2022\n",
        "\n",
        "@author: epsh\n",
        "\"\"\"\n",
        "\n",
        "import math\n",
        "\n",
        "\n",
        "dim = 'um'\n",
        "dimFactor = 1e3\n",
        "dimNorm = 'mm'\n",
        "\n",
        "\n",
        "wl1 = 0.610 # um\n",
        "wl2 = 0.660 # um\n",
        "wlc = (wl2+wl1)/2\n",
        "\n",
        "deltaL = 20e3 #um\n",
        "\n",
        "m = 1\n",
        "\n",
        "NA = 0.3\n",
        "thetaI = math.asin(NA)\n",
        "d = 0.5*wlc/math.sin(NA)\n",
        "\n",
        "\n",
        "thetaWlcm1 = math.asin(wlc/d*m-math.sin(thetaI)) \n",
        "thetaWl1m1 = math.asin(wl1/d*m-math.sin(thetaI)) \n",
        "thetaWl2m1 = math.asin(wl2/d*m-math.sin(thetaI)) \n",
        "\n",
        "HFOV = deltaL/(1/math.tan(thetaWl1m1)-1/math.tan(thetaWl2m1))\n",
        "\n",
        "l1 = HFOV/math.tan(thetaWl1m1)\n",
        "lc = HFOV/math.tan(thetaWlcm1)\n",
        "l2 = HFOV/math.tan(thetaWl2m1)\n",
        "\n",
        "f = HFOV/2/math.tan(thetaI)\n",
        "\n",
        "\n",
        "print(f'wl1 = {wl1:.3f} {dim}, wl2 = {wl2:.3f} {dim}, wl central = {wlc:.3f} {dim} ')\n",
        "print(f'period d = {d:.3f} {dim} @NA = {NA}, @wlc = {wlc} ')\n",
        "\n",
        "print(f'DOI focal length = {f/dimFactor:.1f} {dimNorm}')\n",
        "print(f'DOI HFOV = {HFOV/dimFactor:.1f} {dimNorm}')\n",
        "print(f'DOI NA = {NA} ')\n",
        "print(f'chromatic shift = {deltaL/dimFactor:.3f} {dimNorm}')\n",
        "\n",
        "print(f'thetaWl1m1 = {thetaWl1m1:.3f} rad')\n",
        "print(f'thetaWlcm1 = {thetaWlcm1:.3f} rad')\n",
        "print(f'thetaWl2m1 = {thetaWl2m1:.3f} rad')\n",
        "\n",
        "print(f'l1 = {l1/dimFactor:.3f} {dimNorm}')\n",
        "print(f'lc = {lc/dimFactor:.3f} {dimNorm}')\n",
        "print(f'l2 = {l2/dimFactor:.3f} {dimNorm}')\n"
      ]
    }
  ]
}